{
  "nbformat": 4,
  "nbformat_minor": 0,
  "metadata": {
    "colab": {
      "name": "Higgs_NN_for_github",
      "provenance": []
    },
    "kernelspec": {
      "name": "python3",
      "display_name": "Python 3"
    },
    "language_info": {
      "name": "python"
    },
    "accelerator": "GPU"
  },
  "cells": [
    {
      "cell_type": "code",
      "source": [
        "import tensorflow as tf\n",
        "from google.colab import drive\n",
        "\n",
        "drive.mount('/content/drive')"
      ],
      "metadata": {
        "id": "U26P2rYdIVxP"
      },
      "execution_count": null,
      "outputs": []
    },
    {
      "cell_type": "code",
      "source": [
        "import pandas as pd\n",
        "df =pd.read_csv(\"/content/drive/MyDrive/HIGGS.csv\", header = None)"
      ],
      "metadata": {
        "id": "1XU7BUY9zD-9"
      },
      "execution_count": 5,
      "outputs": []
    },
    {
      "cell_type": "code",
      "source": [
        "X_train = df.iloc[:10000000, 1:]\n",
        "Y_train = df.iloc[:10000000, 0]\n",
        "X_val = df.iloc[10000000:10500000, 1:]\n",
        "Y_val = df.iloc[10000000:10500000, 0]\n",
        "X_test = df.iloc[10500000:, 1:]\n",
        "Y_test = df.iloc[10500000:, 0]\n",
        "\n",
        "X_train = X_train.values\n",
        "Y_train = Y_train.values\n",
        "X_val = X_val.values\n",
        "Y_val = Y_val.values\n",
        "X_test = X_test.values\n",
        "Y_test = Y_test.values"
      ],
      "metadata": {
        "id": "ro-8y8yxzGDK"
      },
      "execution_count": null,
      "outputs": []
    },
    {
      "cell_type": "code",
      "source": [
        "from keras import initializers\n",
        "from keras.models import Sequential\n",
        "from keras.layers import Dense"
      ],
      "metadata": {
        "id": "zms4T4a1Fxym"
      },
      "execution_count": 7,
      "outputs": []
    },
    {
      "cell_type": "code",
      "source": [
        "def shallow_network():\n",
        "\n",
        "  mean = 0.0\n",
        "  ki0 = tf.keras.initializers.RandomNormal(mean=mean,stddev=1)\n",
        "  opt = tf.keras.optimizers.SGD(learning_rate=0.05, momentum=0.9)\n",
        "  model = Sequential([\n",
        "      Dense(1000, activation='tanh', input_shape=(21,), name='h0', kernel_initializer = ki0),\n",
        "      Dense(1, activation='sigmoid', name='y', kernel_initializer = ki0),\n",
        "  ])\n",
        "\n",
        "  model.compile(loss='binary_crossentropy', optimizer =opt, metrics=['accuracy'])\n",
        "  model.build()\n",
        "  model.summary()\n",
        "\n",
        "  return model"
      ],
      "metadata": {
        "id": "HAm6f9UPzJeD"
      },
      "execution_count": null,
      "outputs": []
    },
    {
      "cell_type": "code",
      "source": [
        "def four_hl_network():\n",
        "\n",
        "  mean = 0.0\n",
        "  ki0 = tf.keras.initializers.RandomNormal(mean=mean,stddev=0.1)\n",
        "  ki1 = tf.keras.initializers.RandomNormal(mean=mean,stddev=0.05)\n",
        "  ki2 = tf.keras.initializers.RandomNormal(mean=mean,stddev=0.05)\n",
        "  ki3 = tf.keras.initializers.RandomNormal(mean=mean,stddev=0.05)\n",
        "  ki4 = tf.keras.initializers.RandomNormal(mean=mean,stddev=0.001)\n",
        "  opt = tf.keras.optimizers.SGD(learning_rate=0.05, momentum=0.9)\n",
        "  model = Sequential([\n",
        "      Dense(300, activation='tanh', input_shape=(28,), name='h0', kernel_initializer = ki0),\n",
        "      Dense(300, activation='tanh', name='h1', kernel_initializer = ki1),\n",
        "      Dense(300, activation='tanh', name='h2', kernel_initializer = ki2),\n",
        "      Dense(300, activation='tanh',  name='h3', kernel_initializer = ki3),\n",
        "      Dense(1, activation='sigmoid', name='y', kernel_initializer = ki4),\n",
        "  ])\n",
        "\n",
        "  model.compile(loss='binary_crossentropy', optimizer =opt, metrics=['accuracy'])\n",
        "  model.build()\n",
        "  model.summary()\n",
        "\n",
        "  return model"
      ],
      "metadata": {
        "id": "e-tbW_mmF-vu"
      },
      "execution_count": 2,
      "outputs": []
    },
    {
      "cell_type": "code",
      "source": [
        "def five_hl_network():\n",
        "\n",
        "  mean = 0.0\n",
        "  ki0 = tf.keras.initializers.RandomNormal(mean=mean,stddev=0.1)\n",
        "  ki1 = tf.keras.initializers.RandomNormal(mean=mean,stddev=0.05)\n",
        "  ki2 = tf.keras.initializers.RandomNormal(mean=mean,stddev=0.05)\n",
        "  ki3 = tf.keras.initializers.RandomNormal(mean=mean,stddev=0.05)\n",
        "  ki4 = tf.keras.initializers.RandomNormal(mean=mean,stddev=0.05)\n",
        "  ki5 = tf.keras.initializers.RandomNormal(mean=mean,stddev=0.001)\n",
        "  opt = tf.keras.optimizers.SGD(learning_rate=0.05, momentum=0.9)\n",
        "  model = Sequential([\n",
        "      Dense(300, activation='tanh', input_shape=(28,), name='h0', kernel_initializer = ki0),\n",
        "      Dense(300, activation='tanh', name='h1', kernel_initializer = ki1),\n",
        "      Dense(300, activation='tanh', name='h2', kernel_initializer = ki2),\n",
        "      Dense(300, activation='tanh',  name='h3', kernel_initializer = ki3),\n",
        "      Dense(300, activation='tanh',  name='h4', kernel_initializer = ki4),\n",
        "      Dense(1, activation='sigmoid', name='y', kernel_initializer = ki5),\n",
        "  ])\n",
        "\n",
        "  # compile the keras model\n",
        "  model.compile(loss='binary_crossentropy', optimizer =opt, metrics=['accuracy'])\n",
        "  model.build()\n",
        "  model.summary()\n",
        "\n",
        "  return model"
      ],
      "metadata": {
        "id": "ik-UlwLAGIqr"
      },
      "execution_count": 8,
      "outputs": []
    },
    {
      "cell_type": "code",
      "source": [
        "from tensorflow import keras\n",
        "from matplotlib import pyplot as plt\n",
        "from IPython.display import clear_output\n",
        "import numpy as np\n",
        "\n",
        "\n",
        "class PlotLearning(keras.callbacks.Callback):\n",
        "    \"\"\"\n",
        "    Callback to plot the learning curves of the model during training.\n",
        "    \"\"\"\n",
        "    def on_train_begin(self, logs={}):\n",
        "        self.metrics = {}\n",
        "        for metric in logs:\n",
        "            self.metrics[metric] = []\n",
        "            \n",
        "\n",
        "    def on_epoch_end(self, epoch, logs={}):\n",
        "        # Storing metrics\n",
        "        for metric in logs:\n",
        "            if metric in self.metrics:\n",
        "                self.metrics[metric].append(logs.get(metric))\n",
        "            else:\n",
        "                self.metrics[metric] = [logs.get(metric)]\n",
        "        \n",
        "        # Plotting\n",
        "        metrics = [x for x in logs if 'val' not in x]\n",
        "        \n",
        "        f, axs = plt.subplots(1, len(metrics), figsize=(15,5))\n",
        "        clear_output(wait=True)\n",
        "\n",
        "        for i, metric in enumerate(metrics):\n",
        "            axs[i].plot(range(1, epoch + 2), \n",
        "                        self.metrics[metric], \n",
        "                        label=metric)\n",
        "            if logs['val_' + metric]:\n",
        "                axs[i].plot(range(1, epoch + 2), \n",
        "                            self.metrics['val_' + metric], \n",
        "                            label='val_' + metric)\n",
        "                \n",
        "            axs[i].legend()\n",
        "            axs[i].grid()\n",
        "\n",
        "        plt.tight_layout()\n",
        "        plt.show()"
      ],
      "metadata": {
        "id": "oD1a4a9nzLit"
      },
      "execution_count": 9,
      "outputs": []
    },
    {
      "cell_type": "code",
      "source": [
        "my_callbacks = [\n",
        "    PlotLearning(),\n",
        "    tf.keras.callbacks.ModelCheckpoint(filepath='/content/drive/MyDrive/Higgs_model_checkpoints/filepath_loss.cktp', \n",
        "                                       save_weights_only=True,\n",
        "                                       monitor='loss',\n",
        "                                       mode='min',\n",
        "                                       save_best_only=True),\n",
        "    tf.keras.callbacks.ModelCheckpoint(filepath='/content/drive/MyDrive/Higgs_model_checkpoints/filepath_valloss.cktp', \n",
        "                                       save_weights_only=True,\n",
        "                                       monitor='val_loss',\n",
        "                                       mode='min',\n",
        "                                       save_best_only=True),\n",
        "    tf.keras.callbacks.ReduceLROnPlateau(monitor='loss', verbose=1, min_lr=1e-6)\n",
        "]"
      ],
      "metadata": {
        "id": "cihXNMWCzNKb"
      },
      "execution_count": 10,
      "outputs": []
    },
    {
      "cell_type": "code",
      "source": [
        "model = five_hl_network()"
      ],
      "metadata": {
        "id": "HLXJihXIImw3"
      },
      "execution_count": null,
      "outputs": []
    },
    {
      "cell_type": "code",
      "source": [
        "model.load_weights('/content/drive/MyDrive/Higgs_model_checkpoints/filepath.cktp')"
      ],
      "metadata": {
        "id": "5YZahJXTIgCV"
      },
      "execution_count": null,
      "outputs": []
    },
    {
      "cell_type": "code",
      "source": [
        "print(tf.keras.backend.eval(model.optimizer.lr))"
      ],
      "metadata": {
        "id": "v2hf_W1RIMe-"
      },
      "execution_count": null,
      "outputs": []
    },
    {
      "cell_type": "code",
      "source": [
        "tf.keras.backend.set_value(model.optimizer.lr, 0.001)"
      ],
      "metadata": {
        "id": "rYX6d89sIqMy"
      },
      "execution_count": null,
      "outputs": []
    },
    {
      "cell_type": "code",
      "source": [
        "hist = model.fit(X_train, Y_train,\n",
        "          batch_size=128, epochs=200, callbacks=my_callbacks,\n",
        "          validation_data=(X_val, Y_val))"
      ],
      "metadata": {
        "id": "3n3QiU1DH8W-"
      },
      "execution_count": null,
      "outputs": []
    },
    {
      "cell_type": "code",
      "source": [
        "from sklearn.metrics import roc_curve\n",
        "from sklearn.metrics import auc\n",
        "y_pred_keras = model.predict(X_test).ravel()\n",
        "fpr_keras, tpr_keras, thresholds_keras = roc_curve(Y_test, y_pred_keras)\n",
        "auc_keras = auc(fpr_keras, tpr_keras)\n",
        "\n",
        "plt.figure(1)\n",
        "plt.plot([0, 1], [0, 1], 'k--')\n",
        "plt.plot(fpr_keras, tpr_keras, label='Keras (area = {:.3f})'.format(auc_keras))\n",
        "plt.xlabel('False positive rate')\n",
        "plt.ylabel('True positive rate')\n",
        "plt.title('ROC curve')\n",
        "plt.legend(loc='best')\n",
        "plt.show()"
      ],
      "metadata": {
        "id": "XSuGTEErzRBv"
      },
      "execution_count": null,
      "outputs": []
    }
  ]
}